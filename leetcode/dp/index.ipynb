{
 "cells": [
  {
   "cell_type": "markdown",
   "metadata": {},
   "source": [
    "# 動態規劃\n",
    "\n",
    "## 思考順序\n",
    "1. 這個問題的 base case (最簡單情況) 為何？\n",
    "2. 這個問題有什麼「`狀態`」？\n",
    "3. 對於每個「狀態」，可以做出什麼`選擇`，使得「狀態」發生改變？\n",
    "4. 如何定義 `dp` 陣列/函數的含義，以便表現「狀態」和「選擇」？\n",
    "\n",
    "## 思路\n",
    "- `狀態`\n",
    "- `選擇`\n",
    "- `dp`陣列的定義。\n",
    "\n",
    "## 框架\n",
    "```py\n",
    "# 初始化 base case\n",
    "dp[0][0][...] = base case\n",
    "# 進行狀態轉移\n",
    "for 狀態1 in 狀態1的所有取值:\n",
    "    for 狀態2 in 狀態2的所有取值:\n",
    "        for ...\n",
    "            dp[狀態1][狀態2][...] = 求極值(選擇1, 選擇2, ...)\n",
    "```"
   ]
  },
  {
   "cell_type": "markdown",
   "metadata": {},
   "source": [
    "# 費氏數列 (Fibonacci series)"
   ]
  },
  {
   "cell_type": "code",
   "execution_count": 10,
   "metadata": {},
   "outputs": [
    {
     "data": {
      "text/plain": [
       "102334155"
      ]
     },
     "execution_count": 10,
     "metadata": {},
     "output_type": "execute_result"
    }
   ],
   "source": [
    "# Time: O(2^N)\n",
    "# Space: O(N)\n",
    "def fib_brute_force(n: int) -> int:\n",
    "    if n == 0: return 0\n",
    "    if n == 1 or n == 2: return 1\n",
    "    return fib_brute_force(n-1) + fib_brute_force(n-2)\n",
    "\n",
    "fib_brute_force(40)"
   ]
  },
  {
   "cell_type": "markdown",
   "metadata": {},
   "source": [
    "## 暴力解最大問題是 重疊子問題\n",
    "\n",
    "解決重疊子問題的方法\n",
    "\n",
    "1. Recursion with memo (Up->Bottom)\n",
    "\n",
    "2. Dynamic Programming (Bottom->Up)"
   ]
  },
  {
   "cell_type": "code",
   "execution_count": 17,
   "metadata": {},
   "outputs": [
    {
     "data": {
      "text/plain": [
       "102334155"
      ]
     },
     "execution_count": 17,
     "metadata": {},
     "output_type": "execute_result"
    }
   ],
   "source": [
    "# 1. Recursion with memo (Up->Bottom)\n",
    "# Time: O(N)\n",
    "# Space: O(N)\n",
    "def fib_with_memo(n: int) -> int:\n",
    "    if n == 0: return 0\n",
    "    memo = [0 for i in range(n+1)]\n",
    "    def solver(n: int):\n",
    "        if n == 1 or n == 2: return 1\n",
    "        if memo[n] != 0: return memo[n]\n",
    "        memo[n] = solver(n-1) + solver(n-2)\n",
    "        return memo[n]\n",
    "    return solver(n)\n",
    "\n",
    "fib_with_memo(40)"
   ]
  },
  {
   "cell_type": "code",
   "execution_count": 25,
   "metadata": {},
   "outputs": [
    {
     "data": {
      "text/plain": [
       "102334155"
      ]
     },
     "execution_count": 25,
     "metadata": {},
     "output_type": "execute_result"
    }
   ],
   "source": [
    "# 2. DP\n",
    "# Time: O(N)\n",
    "# Space: O(N)\n",
    "def fib_dp(n: int) -> int:\n",
    "    if n == 0: return 0\n",
    "    if n == 1 or n == 2: return 1\n",
    "    dp = [0 for _ in range(n+1)]\n",
    "    dp[1] = dp[2] = 1\n",
    "    for i in range(3, n+1):\n",
    "        dp[i] = dp[i-1] + dp[i-2] # 狀態n = 狀態n-1 + 狀態n-2\n",
    "    return dp[n]\n",
    "\n",
    "fib_dp(40)"
   ]
  },
  {
   "cell_type": "markdown",
   "metadata": {},
   "source": [
    "# 狀態壓縮\n",
    "\n",
    "實際上這個例子中，狀態只有 2 個，不需要一個動態的狀態空間 dp，即可以完成狀態轉移，此時可以再考慮狀態壓縮\n",
    "- 二維dp -> 一維dp <=> O(N^2) -> O(N)\n",
    "- 一維dp -> pointers <=> O(N) -> O(1)"
   ]
  },
  {
   "cell_type": "code",
   "execution_count": 27,
   "metadata": {},
   "outputs": [
    {
     "data": {
      "text/plain": [
       "102334155"
      ]
     },
     "execution_count": 27,
     "metadata": {},
     "output_type": "execute_result"
    }
   ],
   "source": [
    "# 3. DP with two pointers\n",
    "# Time: O(N)\n",
    "# Space: O(1) (狀態壓縮)\n",
    "def fib_dp_two_pointers(n: int) -> int:\n",
    "    if n == 0: return 0\n",
    "    if n == 1 or n == 2: return 1\n",
    "    current = prev = 1\n",
    "    for _ in range(3, n+1):\n",
    "        next = current + prev\n",
    "        prev = current\n",
    "        current = next\n",
    "    return current\n",
    "\n",
    "fib_dp_two_pointers(40)"
   ]
  },
  {
   "cell_type": "markdown",
   "metadata": {},
   "source": [
    "# 湊零錢問題\n",
    "\n",
    "給出 `k` 種面值硬幣，分別為 `c1, c2, ..., ck`, 每種硬幣的數量無限，試問最少需要幾枚硬幣湊出金額 `amount`？\n",
    "\n",
    "如果不可能湊出來，返回 `-1`\n",
    "\n",
    "## 思路框架\n",
    "1. `Base case`，當 `amount` 為 0 時，演算法回傳 0，因為不需要硬幣就能湊出目標金額。\n",
    "2. 狀態，確定原問題和子問題的變數：由於硬幣數量無限，硬幣的面額也是動態的，只有目標金額會不斷向 `Base case` 靠近，故狀態只有 `amount` 一個。\n",
    "3. 選擇，確定狀態轉移，`意即導致狀態產生變化的行為`，只有一種可能會導致目標金額 amount 產生變化，就是幣別的選擇，因此`ck` 為選擇。\n",
    "4. 明確 `dp` 的定義，`dp(n)：輸入一個目標金額 n，返回湊出目標金額 n 的最少硬幣數`，採用 (Up->Bottom)。"
   ]
  },
  {
   "cell_type": "code",
   "execution_count": 49,
   "metadata": {},
   "outputs": [
    {
     "data": {
      "text/plain": [
       "6"
      ]
     },
     "execution_count": 49,
     "metadata": {},
     "output_type": "execute_result"
    }
   ],
   "source": [
    "# Brute force\n",
    "# Time: O(kn^k)\n",
    "# Space: O(n)\n",
    "def coin_brute_force(coins: list, amount: int) -> int:\n",
    "    # 定義：若要湊出金額 m，至少要 dp(n) 枚硬幣\n",
    "    def dp(n: int) -> int: # O(n^k)\n",
    "        # base case\n",
    "        if n == 0: return 0\n",
    "        if n < 0: return -1\n",
    "        # 求最小值，初始值為最大值\n",
    "        res = float('inf')\n",
    "        for coin in coins: # O(k)\n",
    "            subproblem = dp(n-coin)\n",
    "            # 無解，跳過\n",
    "            if subproblem == -1: continue\n",
    "            res = min(res, 1+subproblem)\n",
    "        return res if res != float('inf') else -1\n",
    "    return dp(amount)\n",
    "\n",
    "coin_brute_force([1,2,5], 30)"
   ]
  },
  {
   "cell_type": "code",
   "execution_count": 50,
   "metadata": {},
   "outputs": [
    {
     "data": {
      "text/plain": [
       "6"
      ]
     },
     "execution_count": 50,
     "metadata": {},
     "output_type": "execute_result"
    }
   ],
   "source": [
    "# Recursion with memo (Up->Bottom)\n",
    "# Time: O(kn)\n",
    "# Space: O(n)\n",
    "def coin_memo(coins: list, amount: int) -> int:\n",
    "    memo = [0 for _ in range(amount+1)]\n",
    "    # 定義：若要湊出金額 m，至少要 dp(n) 枚硬幣\n",
    "    def dp(n: int) -> int: # O(n^k)\n",
    "        # 避免重複計算\n",
    "        if memo[n] != 0: return memo[n]\n",
    "        # base case\n",
    "        if n == 0: return 0\n",
    "        if n < 0: return -1\n",
    "        # 求最小值，初始值為最大值\n",
    "        res = float('inf')\n",
    "        for coin in coins: # O(k)\n",
    "            subproblem = dp(n-coin)\n",
    "            # 無解，跳過\n",
    "            if subproblem == -1: continue\n",
    "            res = min(res, 1+subproblem)\n",
    "        memo[n] = res if res != float('inf') else -1\n",
    "        return memo[n]\n",
    "\n",
    "    return dp(amount)\n",
    "\n",
    "coin_memo([1,2,5], 30)"
   ]
  },
  {
   "cell_type": "code",
   "execution_count": 57,
   "metadata": {},
   "outputs": [
    {
     "data": {
      "text/plain": [
       "6"
      ]
     },
     "execution_count": 57,
     "metadata": {},
     "output_type": "execute_result"
    }
   ],
   "source": [
    "# DP (Bottom->Up)\n",
    "# Time: O(kn)\n",
    "# Space: O(n)\n",
    "def coin_dp(coins: list, amount: int) -> int:\n",
    "    # 求取最小初始狀態須為最大， amount+1，因為全部都用1元硬幣，最多只會有amount枚硬幣。\n",
    "    dp = [amount+1 for _ in range(amount+1)]\n",
    "    # base case\n",
    "    dp[0] = 0\n",
    "    # for 狀態 in 狀態空間中\n",
    "    for i in range(len(dp)):\n",
    "        for coin in coins:\n",
    "            # 無解\n",
    "            if i < coin: continue\n",
    "            # 如果 *選擇* 加入這個 coin，使得硬幣用數較少，就選擇加入。 (狀態轉移)\n",
    "            dp[i] = min(dp[i], 1+dp[i-coin])\n",
    "    return dp[amount] if dp[amount] != amount+1 else -1\n",
    "\n",
    "coin_dp([1,2,5], 30)"
   ]
  },
  {
   "cell_type": "code",
   "execution_count": null,
   "metadata": {},
   "outputs": [],
   "source": []
  }
 ],
 "metadata": {
  "kernelspec": {
   "display_name": "Python 3",
   "language": "python",
   "name": "python3"
  },
  "language_info": {
   "codemirror_mode": {
    "name": "ipython",
    "version": 3
   },
   "file_extension": ".py",
   "mimetype": "text/x-python",
   "name": "python",
   "nbconvert_exporter": "python",
   "pygments_lexer": "ipython3",
   "version": "3.9.6"
  },
  "orig_nbformat": 4
 },
 "nbformat": 4,
 "nbformat_minor": 2
}
